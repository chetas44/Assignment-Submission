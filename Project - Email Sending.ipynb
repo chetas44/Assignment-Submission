{
 "cells": [
  {
   "cell_type": "code",
   "execution_count": 2,
   "metadata": {},
   "outputs": [
    {
     "name": "stdout",
     "output_type": "stream",
     "text": [
      "Requirement already satisfied: emails in e:\\downloads\\anaconda\\lib\\site-packages (0.6)\n",
      "Requirement already satisfied: chardet in e:\\downloads\\anaconda\\lib\\site-packages (from emails) (3.0.4)\n",
      "Requirement already satisfied: python-dateutil in e:\\downloads\\anaconda\\lib\\site-packages (from emails) (2.8.1)\n",
      "Requirement already satisfied: cssutils in e:\\downloads\\anaconda\\lib\\site-packages (from emails) (1.0.2)\n",
      "Requirement already satisfied: requests in e:\\downloads\\anaconda\\lib\\site-packages (from emails) (2.22.0)\n",
      "Requirement already satisfied: lxml in e:\\downloads\\anaconda\\lib\\site-packages (from emails) (4.5.0)\n",
      "Requirement already satisfied: premailer in e:\\downloads\\anaconda\\lib\\site-packages (from emails) (3.7.0)\n",
      "Requirement already satisfied: six>=1.5 in e:\\downloads\\anaconda\\lib\\site-packages (from python-dateutil->emails) (1.14.0)\n",
      "Requirement already satisfied: urllib3!=1.25.0,!=1.25.1,<1.26,>=1.21.1 in e:\\downloads\\anaconda\\lib\\site-packages (from requests->emails) (1.25.8)\n",
      "Requirement already satisfied: certifi>=2017.4.17 in e:\\downloads\\anaconda\\lib\\site-packages (from requests->emails) (2019.11.28)\n",
      "Requirement already satisfied: idna<2.9,>=2.5 in e:\\downloads\\anaconda\\lib\\site-packages (from requests->emails) (2.8)\n",
      "Requirement already satisfied: cachetools in e:\\downloads\\anaconda\\lib\\site-packages (from premailer->emails) (4.2.0)\n",
      "Requirement already satisfied: cssselect in e:\\downloads\\anaconda\\lib\\site-packages (from premailer->emails) (1.1.0)\n"
     ]
    }
   ],
   "source": [
    "!pip install emails"
   ]
  },
  {
   "cell_type": "code",
   "execution_count": 3,
   "metadata": {},
   "outputs": [],
   "source": [
    "import emails"
   ]
  },
  {
   "cell_type": "code",
   "execution_count": 13,
   "metadata": {},
   "outputs": [],
   "source": [
    "html_text = '''<p>Hello,</p>\n",
    "<p>How are you ? how are you doing?</p>\n",
    "<p>How are your winters going on?</p>\n",
    "<p>This mail is sent using Python.</p>\n",
    "<p><br></p>\n",
    "<p><br></p>\n",
    "<p>Thank You&nbsp;</p>\n",
    "<p>Yours Lovingly</p>'''\n",
    "message = emails.html(html=html_text,\n",
    "                          subject=\"Hello Miss\",\n",
    "                          mail_from=('Someone You Know Well'))"
   ]
  },
  {
   "cell_type": "code",
   "execution_count": 14,
   "metadata": {},
   "outputs": [],
   "source": [
    "mail_via_python = message.send(to='vavosap520@econeom.com', \n",
    "                               smtp={'host': 'smtp.gmail.com', \n",
    "                                     'timeout': 5,\n",
    "                                     'port':587,\n",
    "                                     'user':'kabirkapoor034@gmail.com',\n",
    "                                     'password':'12345678@@@###',\n",
    "                                     'tls':True})"
   ]
  },
  {
   "cell_type": "code",
   "execution_count": 15,
   "metadata": {},
   "outputs": [
    {
     "data": {
      "text/plain": [
       "250"
      ]
     },
     "execution_count": 15,
     "metadata": {},
     "output_type": "execute_result"
    }
   ],
   "source": [
    "mail_via_python.status_code"
   ]
  },
  {
   "cell_type": "code",
   "execution_count": null,
   "metadata": {},
   "outputs": [],
   "source": []
  }
 ],
 "metadata": {
  "kernelspec": {
   "display_name": "Python 3",
   "language": "python",
   "name": "python3"
  },
  "language_info": {
   "codemirror_mode": {
    "name": "ipython",
    "version": 3
   },
   "file_extension": ".py",
   "mimetype": "text/x-python",
   "name": "python",
   "nbconvert_exporter": "python",
   "pygments_lexer": "ipython3",
   "version": "3.7.6"
  }
 },
 "nbformat": 4,
 "nbformat_minor": 4
}
